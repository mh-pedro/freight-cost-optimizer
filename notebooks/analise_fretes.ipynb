{
 "cells": [
  {
   "cell_type": "markdown",
   "id": "5bc0000a",
   "metadata": {},
   "source": [
    "# Análise de Eficiência de Fretes\n",
    "Este projeto tem como objetivo analisar dados de distribuição de livros didáticos a partir do **Centro de Distribuição (CD)**, identificando **fretes ineficientes** e propondo **recomendações para otimizar**.\n",
    "\n",
    "Iremos dividir este projeto em três partes:\n",
    "\n",
    "- 1. Entendimento e Preparação dos Dados\n",
    "- 2. Definição de Métricas e Análise Exploratória\n",
    "- 3. Modelagem e Recomendações"
   ]
  },
  {
   "cell_type": "markdown",
   "id": "39d14bd2",
   "metadata": {},
   "source": [
    " ## 1: Entendimento e Preparação dos Dados\n",
    "\n",
    "Vamos inciar com a inspeção dos dados com objetivo de identificar os formatos, datas, valores nulos, duplicidades e outras inconsistências.\n",
    "\n",
    "Temos duas bases de dados, são elas:\n",
    "\n",
    "- `base_informações.csv` que contem as seguintes colunas:\n",
    "\n",
    "    - **ID_Pedido:** Código único de identificação do pedido;\n",
    "    - **Data:** Data do pedido;\n",
    "    - **Modal:** Modal usado para o transporte;\n",
    "    - **Cidade:** Cidade de destino da entrega;\n",
    "    - **Valor_pedido:** Valor do pedido.\n",
    "\n",
    "- `base_pedidos.csv` que contem as seguintes colunas:\n",
    "    - **ID_Pedido:** Código único de identificação do pedido;\n",
    "    - **Distância:** Distância entre o CD (Centro de Distribuição) e o cliente (Vamos assumir que a distância está em Km);\n",
    "    - **Peso_Kg:** Peso em Kilograma do pedido;\n",
    "    - **Preco_custo:** Preço de custo do pedido, no caso do material dos livros;\n",
    "    - **Custo_Frete:** Custo do frete.\n",
    "\n",
    "    Outras informações são: \n",
    "\n",
    "    - **Modal de Transporte Dedicado:** consiste na contratação de um veículo exclusivo pelo Centro\n",
    "    de Distribuição (CD), diretamente com a transportadora, para o transporte de uma carga\n",
    "    fechada. Esse modal possui uma capacidade máxima de 1.500 kg.\n",
    "    - **Modal de Transporte Fracionado:** ocorre quando o Centro de Distribuição (CD) encaminha o\n",
    "    pedido do cliente por meio de uma transportadora. A transportadora realiza a coleta da\n",
    "    mercadoria e a entrega ao cliente utilizando sua logística já estruturada, consolidando a\n",
    "    carga com os pedidos de outros clientes atendidos pela transportadora.\n",
    "    - Por padrão, todos os pedidos têm origem com o modal de entrega Fracionado. \n",
    "    O representante comercial da Somos Educação pode realizar uma solicitação ao CD para\n",
    "    transformar o modal em Dedicado.\n",
    "    - Toda alteração de modal Fracionado para Dedicado deve ser aprovado pelo time competente no CD."
   ]
  },
  {
   "cell_type": "code",
   "execution_count": 3,
   "id": "f5d8e1d0",
   "metadata": {},
   "outputs": [
    {
     "data": {
      "text/html": [
       "<style>.container { width:100% !important; }</style>"
      ],
      "text/plain": [
       "<IPython.core.display.HTML object>"
      ]
     },
     "metadata": {},
     "output_type": "display_data"
    }
   ],
   "source": [
    "# Importando as bibliotecas\n",
    "import pandas as pd\n",
    "import numpy as np\n",
    "\n",
    "# Visualização \n",
    "import seaborn as sns\n",
    "import matplotlib.pyplot as plt\n",
    "from IPython.display import HTML # type: ignore\n",
    "import plotly.graph_objects as go # type: ignore\n",
    "\n",
    "# Algumas configurações\n",
    "import warnings\n",
    "warnings.simplefilter(action='ignore', category=FutureWarning)\n",
    "\n",
    "# Configuração para o notebook e plotagem de imagens\n",
    "%matplotlib inline\n",
    "def jupyter_settings():\n",
    "    plt.style.use('bmh')\n",
    "    plt.rcParams['figure.figsize'] = [25, 12]\n",
    "    plt.rcParams['font.size'] = 24\n",
    "    display(HTML('<style>.container { width:100% !important; }</style>'))\n",
    "    sns.set()\n",
    "\n",
    "jupyter_settings()\n"
   ]
  },
  {
   "cell_type": "markdown",
   "id": "262043d0",
   "metadata": {},
   "source": [
    "### 1.1: Importando o conjunto de dados"
   ]
  },
  {
   "cell_type": "code",
   "execution_count": 4,
   "id": "a90c4c50",
   "metadata": {},
   "outputs": [],
   "source": [
    "# Importando as duas bases de dados\n",
    "df_info = pd.read_csv('../data/base_informações.csv', sep=';')\n",
    "df_pedidos = pd.read_csv('../data/base_pedidos.csv', sep=';')"
   ]
  },
  {
   "cell_type": "code",
   "execution_count": 5,
   "id": "38d5e5a6",
   "metadata": {},
   "outputs": [
    {
     "data": {
      "text/html": [
       "<div>\n",
       "<style scoped>\n",
       "    .dataframe tbody tr th:only-of-type {\n",
       "        vertical-align: middle;\n",
       "    }\n",
       "\n",
       "    .dataframe tbody tr th {\n",
       "        vertical-align: top;\n",
       "    }\n",
       "\n",
       "    .dataframe thead th {\n",
       "        text-align: right;\n",
       "    }\n",
       "</style>\n",
       "<table border=\"1\" class=\"dataframe\">\n",
       "  <thead>\n",
       "    <tr style=\"text-align: right;\">\n",
       "      <th></th>\n",
       "      <th>ID_Pedido</th>\n",
       "      <th>Distancia</th>\n",
       "      <th>Peso_Kg</th>\n",
       "      <th>Preco_custo</th>\n",
       "      <th>Custo_Frete</th>\n",
       "    </tr>\n",
       "  </thead>\n",
       "  <tbody>\n",
       "    <tr>\n",
       "      <th>0</th>\n",
       "      <td>F1</td>\n",
       "      <td>812</td>\n",
       "      <td>881</td>\n",
       "      <td>22025</td>\n",
       "      <td>5000</td>\n",
       "    </tr>\n",
       "    <tr>\n",
       "      <th>1</th>\n",
       "      <td>F2</td>\n",
       "      <td>868</td>\n",
       "      <td>882</td>\n",
       "      <td>22050</td>\n",
       "      <td>5000</td>\n",
       "    </tr>\n",
       "    <tr>\n",
       "      <th>2</th>\n",
       "      <td>F3</td>\n",
       "      <td>864</td>\n",
       "      <td>938</td>\n",
       "      <td>23450</td>\n",
       "      <td>5000</td>\n",
       "    </tr>\n",
       "    <tr>\n",
       "      <th>3</th>\n",
       "      <td>F4</td>\n",
       "      <td>828</td>\n",
       "      <td>970</td>\n",
       "      <td>24250</td>\n",
       "      <td>5000</td>\n",
       "    </tr>\n",
       "    <tr>\n",
       "      <th>4</th>\n",
       "      <td>F5</td>\n",
       "      <td>797</td>\n",
       "      <td>853</td>\n",
       "      <td>21325</td>\n",
       "      <td>5000</td>\n",
       "    </tr>\n",
       "  </tbody>\n",
       "</table>\n",
       "</div>"
      ],
      "text/plain": [
       "  ID_Pedido  Distancia  Peso_Kg  Preco_custo  Custo_Frete\n",
       "0        F1        812      881        22025         5000\n",
       "1        F2        868      882        22050         5000\n",
       "2        F3        864      938        23450         5000\n",
       "3        F4        828      970        24250         5000\n",
       "4        F5        797      853        21325         5000"
      ]
     },
     "execution_count": 5,
     "metadata": {},
     "output_type": "execute_result"
    }
   ],
   "source": [
    "# visualizando a primeira base\n",
    "df_info.head()"
   ]
  },
  {
   "cell_type": "code",
   "execution_count": 6,
   "id": "192c0431",
   "metadata": {},
   "outputs": [
    {
     "name": "stdout",
     "output_type": "stream",
     "text": [
      "<class 'pandas.core.frame.DataFrame'>\n",
      "RangeIndex: 1048575 entries, 0 to 1048574\n",
      "Data columns (total 5 columns):\n",
      " #   Column       Non-Null Count    Dtype \n",
      "---  ------       --------------    ----- \n",
      " 0   ID_Pedido    1048575 non-null  object\n",
      " 1   Distancia    1048575 non-null  int64 \n",
      " 2   Peso_Kg      1048575 non-null  int64 \n",
      " 3   Preco_custo  1048575 non-null  int64 \n",
      " 4   Custo_Frete  1048575 non-null  int64 \n",
      "dtypes: int64(4), object(1)\n",
      "memory usage: 40.0+ MB\n"
     ]
    }
   ],
   "source": [
    "df_info.info()"
   ]
  },
  {
   "cell_type": "markdown",
   "id": "ea819640",
   "metadata": {},
   "source": [
    "Para a base de dados `df_info`temos ao todo 1048575 entradas e a princípio todas as colunas não possuem nenhuma entrada nula. Também temos o fato que a coluna `ID_Pedido` é do formato objeto. As demais colunas são do tipo inteiro, condizentes com suas tipologias."
   ]
  },
  {
   "cell_type": "code",
   "execution_count": 7,
   "id": "085eef7c",
   "metadata": {},
   "outputs": [
    {
     "data": {
      "text/html": [
       "<div>\n",
       "<style scoped>\n",
       "    .dataframe tbody tr th:only-of-type {\n",
       "        vertical-align: middle;\n",
       "    }\n",
       "\n",
       "    .dataframe tbody tr th {\n",
       "        vertical-align: top;\n",
       "    }\n",
       "\n",
       "    .dataframe thead th {\n",
       "        text-align: right;\n",
       "    }\n",
       "</style>\n",
       "<table border=\"1\" class=\"dataframe\">\n",
       "  <thead>\n",
       "    <tr style=\"text-align: right;\">\n",
       "      <th></th>\n",
       "      <th>ID_Pedido</th>\n",
       "      <th>Data</th>\n",
       "      <th>Modal</th>\n",
       "      <th>Cidade</th>\n",
       "      <th>Valor_pedido</th>\n",
       "    </tr>\n",
       "  </thead>\n",
       "  <tbody>\n",
       "    <tr>\n",
       "      <th>0</th>\n",
       "      <td>F1</td>\n",
       "      <td>19APR2020</td>\n",
       "      <td>Dedicado</td>\n",
       "      <td>Florianopolis</td>\n",
       "      <td>52860</td>\n",
       "    </tr>\n",
       "    <tr>\n",
       "      <th>1</th>\n",
       "      <td>F2</td>\n",
       "      <td>16AUG2024</td>\n",
       "      <td>Dedicado</td>\n",
       "      <td>Florianopolis</td>\n",
       "      <td>52920</td>\n",
       "    </tr>\n",
       "    <tr>\n",
       "      <th>2</th>\n",
       "      <td>F3</td>\n",
       "      <td>10/nov/24</td>\n",
       "      <td>Dedicado</td>\n",
       "      <td>Florianopolis</td>\n",
       "      <td>56280</td>\n",
       "    </tr>\n",
       "    <tr>\n",
       "      <th>3</th>\n",
       "      <td>F4</td>\n",
       "      <td>07AUG2022</td>\n",
       "      <td>Dedicado</td>\n",
       "      <td>Florianopolis</td>\n",
       "      <td>58200</td>\n",
       "    </tr>\n",
       "    <tr>\n",
       "      <th>4</th>\n",
       "      <td>F5</td>\n",
       "      <td>14SEP2020</td>\n",
       "      <td>Dedicado</td>\n",
       "      <td>Florianopolis</td>\n",
       "      <td>51180</td>\n",
       "    </tr>\n",
       "  </tbody>\n",
       "</table>\n",
       "</div>"
      ],
      "text/plain": [
       "  ID_Pedido       Data     Modal         Cidade  Valor_pedido\n",
       "0        F1  19APR2020  Dedicado  Florianopolis         52860\n",
       "1        F2  16AUG2024  Dedicado  Florianopolis         52920\n",
       "2        F3  10/nov/24  Dedicado  Florianopolis         56280\n",
       "3        F4  07AUG2022  Dedicado  Florianopolis         58200\n",
       "4        F5  14SEP2020  Dedicado  Florianopolis         51180"
      ]
     },
     "execution_count": 7,
     "metadata": {},
     "output_type": "execute_result"
    }
   ],
   "source": [
    "# Visualizando a segunda base\n",
    "df_pedidos.head()"
   ]
  },
  {
   "cell_type": "code",
   "execution_count": 8,
   "id": "15c12347",
   "metadata": {},
   "outputs": [
    {
     "name": "stdout",
     "output_type": "stream",
     "text": [
      "<class 'pandas.core.frame.DataFrame'>\n",
      "RangeIndex: 1048575 entries, 0 to 1048574\n",
      "Data columns (total 5 columns):\n",
      " #   Column        Non-Null Count    Dtype \n",
      "---  ------        --------------    ----- \n",
      " 0   ID_Pedido     1048575 non-null  object\n",
      " 1   Data          1048575 non-null  object\n",
      " 2   Modal         1048575 non-null  object\n",
      " 3   Cidade        1048575 non-null  object\n",
      " 4   Valor_pedido  1048575 non-null  int64 \n",
      "dtypes: int64(1), object(4)\n",
      "memory usage: 40.0+ MB\n"
     ]
    }
   ],
   "source": [
    "df_pedidos.info()"
   ]
  },
  {
   "cell_type": "markdown",
   "id": "b59f5b8f",
   "metadata": {},
   "source": [
    "Aqui temos novamente as 1048575 entradas, a mesma quantidade da base anterior, o que sugere que poderemos juntar as duas bases. \n",
    "Um ponto importante é a coluna `Data` que além de ter o formato como objeto, também possuem entradas não padronizadas."
   ]
  },
  {
   "cell_type": "code",
   "execution_count": 9,
   "id": "5c06db01",
   "metadata": {},
   "outputs": [
    {
     "name": "stderr",
     "output_type": "stream",
     "text": [
      "/tmp/ipykernel_18753/980590163.py:2: UserWarning: Could not infer format, so each element will be parsed individually, falling back to `dateutil`. To ensure parsing is consistent and as-expected, please specify a format.\n",
      "  df_pedidos['Data'] = pd.to_datetime(df_pedidos['Data'], errors='coerce', dayfirst=True)\n"
     ]
    }
   ],
   "source": [
    "# Tratando as datas para terem a mesma formatação\n",
    "df_pedidos['Data'] = pd.to_datetime(df_pedidos['Data'], errors='coerce', dayfirst=True)\n",
    "# Ordenando para o formato para o brasileiro\n",
    "df_pedidos['Data'].dt.strftime('%d/%m/%Y');"
   ]
  },
  {
   "cell_type": "code",
   "execution_count": 10,
   "id": "577b0760",
   "metadata": {},
   "outputs": [
    {
     "data": {
      "text/html": [
       "<div>\n",
       "<style scoped>\n",
       "    .dataframe tbody tr th:only-of-type {\n",
       "        vertical-align: middle;\n",
       "    }\n",
       "\n",
       "    .dataframe tbody tr th {\n",
       "        vertical-align: top;\n",
       "    }\n",
       "\n",
       "    .dataframe thead th {\n",
       "        text-align: right;\n",
       "    }\n",
       "</style>\n",
       "<table border=\"1\" class=\"dataframe\">\n",
       "  <thead>\n",
       "    <tr style=\"text-align: right;\">\n",
       "      <th></th>\n",
       "      <th>ID_Pedido</th>\n",
       "      <th>Data</th>\n",
       "      <th>Modal</th>\n",
       "      <th>Cidade</th>\n",
       "      <th>Valor_pedido</th>\n",
       "    </tr>\n",
       "  </thead>\n",
       "  <tbody>\n",
       "    <tr>\n",
       "      <th>0</th>\n",
       "      <td>F1</td>\n",
       "      <td>2020-04-19</td>\n",
       "      <td>Dedicado</td>\n",
       "      <td>Florianopolis</td>\n",
       "      <td>52860</td>\n",
       "    </tr>\n",
       "    <tr>\n",
       "      <th>1</th>\n",
       "      <td>F2</td>\n",
       "      <td>2024-08-16</td>\n",
       "      <td>Dedicado</td>\n",
       "      <td>Florianopolis</td>\n",
       "      <td>52920</td>\n",
       "    </tr>\n",
       "    <tr>\n",
       "      <th>2</th>\n",
       "      <td>F3</td>\n",
       "      <td>2024-11-10</td>\n",
       "      <td>Dedicado</td>\n",
       "      <td>Florianopolis</td>\n",
       "      <td>56280</td>\n",
       "    </tr>\n",
       "    <tr>\n",
       "      <th>3</th>\n",
       "      <td>F4</td>\n",
       "      <td>2022-08-07</td>\n",
       "      <td>Dedicado</td>\n",
       "      <td>Florianopolis</td>\n",
       "      <td>58200</td>\n",
       "    </tr>\n",
       "    <tr>\n",
       "      <th>4</th>\n",
       "      <td>F5</td>\n",
       "      <td>2020-09-14</td>\n",
       "      <td>Dedicado</td>\n",
       "      <td>Florianopolis</td>\n",
       "      <td>51180</td>\n",
       "    </tr>\n",
       "  </tbody>\n",
       "</table>\n",
       "</div>"
      ],
      "text/plain": [
       "  ID_Pedido       Data     Modal         Cidade  Valor_pedido\n",
       "0        F1 2020-04-19  Dedicado  Florianopolis         52860\n",
       "1        F2 2024-08-16  Dedicado  Florianopolis         52920\n",
       "2        F3 2024-11-10  Dedicado  Florianopolis         56280\n",
       "3        F4 2022-08-07  Dedicado  Florianopolis         58200\n",
       "4        F5 2020-09-14  Dedicado  Florianopolis         51180"
      ]
     },
     "execution_count": 10,
     "metadata": {},
     "output_type": "execute_result"
    }
   ],
   "source": [
    "# Visualizando novamente a segunda base\n",
    "df_pedidos.head()"
   ]
  },
  {
   "cell_type": "code",
   "execution_count": 11,
   "id": "ec7f2b01",
   "metadata": {},
   "outputs": [
    {
     "name": "stdout",
     "output_type": "stream",
     "text": [
      "<class 'pandas.core.frame.DataFrame'>\n",
      "RangeIndex: 1048575 entries, 0 to 1048574\n",
      "Data columns (total 5 columns):\n",
      " #   Column       Non-Null Count    Dtype \n",
      "---  ------       --------------    ----- \n",
      " 0   ID_Pedido    1048575 non-null  object\n",
      " 1   Distancia    1048575 non-null  int64 \n",
      " 2   Peso_Kg      1048575 non-null  int64 \n",
      " 3   Preco_custo  1048575 non-null  int64 \n",
      " 4   Custo_Frete  1048575 non-null  int64 \n",
      "dtypes: int64(4), object(1)\n",
      "memory usage: 40.0+ MB\n",
      "<class 'pandas.core.frame.DataFrame'>\n",
      "RangeIndex: 1048575 entries, 0 to 1048574\n",
      "Data columns (total 5 columns):\n",
      " #   Column        Non-Null Count    Dtype         \n",
      "---  ------        --------------    -----         \n",
      " 0   ID_Pedido     1048575 non-null  object        \n",
      " 1   Data          1048575 non-null  datetime64[ns]\n",
      " 2   Modal         1048575 non-null  object        \n",
      " 3   Cidade        1048575 non-null  object        \n",
      " 4   Valor_pedido  1048575 non-null  int64         \n",
      "dtypes: datetime64[ns](1), int64(1), object(3)\n",
      "memory usage: 40.0+ MB\n"
     ]
    }
   ],
   "source": [
    "# Visualizando novamente o formato dos dados\n",
    "df_info.info()\n",
    "df_pedidos.info()"
   ]
  },
  {
   "cell_type": "markdown",
   "id": "a9544496",
   "metadata": {},
   "source": [
    "Vamos verificar se o `ID_Pedido`em cada base é único."
   ]
  },
  {
   "cell_type": "code",
   "execution_count": 12,
   "id": "8298e7f1",
   "metadata": {},
   "outputs": [
    {
     "name": "stdout",
     "output_type": "stream",
     "text": [
      "Os IDs da base Base_informações são únicos? SIM\n",
      "Os IDs da base Base_Pedidos são únicos? SIM\n"
     ]
    }
   ],
   "source": [
    "print(f'Os IDs da base Base_informações são únicos? {'SIM' if df_info['ID_Pedido'].is_unique else 'NÃO'}')\n",
    "print(f'Os IDs da base Base_Pedidos são únicos? {'SIM' if df_info['ID_Pedido'].is_unique else 'NÃO'}')\n"
   ]
  },
  {
   "cell_type": "markdown",
   "id": "f5fa9880",
   "metadata": {},
   "source": [
    "Temos que os IDs em abas as bases são únicos, agora vamos verificar se eles corresponde entre si."
   ]
  },
  {
   "cell_type": "code",
   "execution_count": 13,
   "id": "56050367",
   "metadata": {},
   "outputs": [
    {
     "data": {
      "text/plain": [
       "ID_Pedido\n",
       "True    1048575\n",
       "Name: count, dtype: int64"
      ]
     },
     "execution_count": 13,
     "metadata": {},
     "output_type": "execute_result"
    }
   ],
   "source": [
    "# Verificando se cada ID de Base_info está em Base_pedidos\n",
    "\n",
    "df_info['ID_Pedido'].isin(df_pedidos['ID_Pedido']).value_counts()"
   ]
  },
  {
   "cell_type": "code",
   "execution_count": 14,
   "id": "d2834d9c",
   "metadata": {},
   "outputs": [
    {
     "data": {
      "text/plain": [
       "ID_Pedido\n",
       "True    1048575\n",
       "Name: count, dtype: int64"
      ]
     },
     "execution_count": 14,
     "metadata": {},
     "output_type": "execute_result"
    }
   ],
   "source": [
    "# Verificando se cada ID de Base_pedidos está em Base_info\n",
    "\n",
    "df_pedidos['ID_Pedido'].isin(df_info['ID_Pedido']).value_counts()"
   ]
  },
  {
   "cell_type": "markdown",
   "id": "c3e3fd47",
   "metadata": {},
   "source": [
    "Como temos ao todo 1048575 entradas em ambas as bases e ao verificamos se os IDs de uma base está na outra e vice-versa, e de fato, verificamos que temos correspondência 1 para 1. Desta forma podemos juntar as duas bases em uma única base de dados."
   ]
  },
  {
   "cell_type": "code",
   "execution_count": 15,
   "id": "641301e4",
   "metadata": {},
   "outputs": [],
   "source": [
    "df = pd.merge(\n",
    "  df_pedidos,\n",
    "  df_info,\n",
    "  how='inner', # Junta apenas os IDs presentes nas duas bases\n",
    "  on='ID_Pedido' # Coluna em comum\n",
    ")"
   ]
  },
  {
   "cell_type": "code",
   "execution_count": 16,
   "id": "b78c492c",
   "metadata": {},
   "outputs": [
    {
     "data": {
      "text/html": [
       "<div>\n",
       "<style scoped>\n",
       "    .dataframe tbody tr th:only-of-type {\n",
       "        vertical-align: middle;\n",
       "    }\n",
       "\n",
       "    .dataframe tbody tr th {\n",
       "        vertical-align: top;\n",
       "    }\n",
       "\n",
       "    .dataframe thead th {\n",
       "        text-align: right;\n",
       "    }\n",
       "</style>\n",
       "<table border=\"1\" class=\"dataframe\">\n",
       "  <thead>\n",
       "    <tr style=\"text-align: right;\">\n",
       "      <th></th>\n",
       "      <th>ID_Pedido</th>\n",
       "      <th>Data</th>\n",
       "      <th>Modal</th>\n",
       "      <th>Cidade</th>\n",
       "      <th>Valor_pedido</th>\n",
       "      <th>Distancia</th>\n",
       "      <th>Peso_Kg</th>\n",
       "      <th>Preco_custo</th>\n",
       "      <th>Custo_Frete</th>\n",
       "    </tr>\n",
       "  </thead>\n",
       "  <tbody>\n",
       "    <tr>\n",
       "      <th>0</th>\n",
       "      <td>F1</td>\n",
       "      <td>2020-04-19</td>\n",
       "      <td>Dedicado</td>\n",
       "      <td>Florianopolis</td>\n",
       "      <td>52860</td>\n",
       "      <td>812</td>\n",
       "      <td>881</td>\n",
       "      <td>22025</td>\n",
       "      <td>5000</td>\n",
       "    </tr>\n",
       "    <tr>\n",
       "      <th>1</th>\n",
       "      <td>F2</td>\n",
       "      <td>2024-08-16</td>\n",
       "      <td>Dedicado</td>\n",
       "      <td>Florianopolis</td>\n",
       "      <td>52920</td>\n",
       "      <td>868</td>\n",
       "      <td>882</td>\n",
       "      <td>22050</td>\n",
       "      <td>5000</td>\n",
       "    </tr>\n",
       "    <tr>\n",
       "      <th>2</th>\n",
       "      <td>F3</td>\n",
       "      <td>2024-11-10</td>\n",
       "      <td>Dedicado</td>\n",
       "      <td>Florianopolis</td>\n",
       "      <td>56280</td>\n",
       "      <td>864</td>\n",
       "      <td>938</td>\n",
       "      <td>23450</td>\n",
       "      <td>5000</td>\n",
       "    </tr>\n",
       "    <tr>\n",
       "      <th>3</th>\n",
       "      <td>F4</td>\n",
       "      <td>2022-08-07</td>\n",
       "      <td>Dedicado</td>\n",
       "      <td>Florianopolis</td>\n",
       "      <td>58200</td>\n",
       "      <td>828</td>\n",
       "      <td>970</td>\n",
       "      <td>24250</td>\n",
       "      <td>5000</td>\n",
       "    </tr>\n",
       "    <tr>\n",
       "      <th>4</th>\n",
       "      <td>F5</td>\n",
       "      <td>2020-09-14</td>\n",
       "      <td>Dedicado</td>\n",
       "      <td>Florianopolis</td>\n",
       "      <td>51180</td>\n",
       "      <td>797</td>\n",
       "      <td>853</td>\n",
       "      <td>21325</td>\n",
       "      <td>5000</td>\n",
       "    </tr>\n",
       "  </tbody>\n",
       "</table>\n",
       "</div>"
      ],
      "text/plain": [
       "  ID_Pedido       Data     Modal         Cidade  Valor_pedido  Distancia  \\\n",
       "0        F1 2020-04-19  Dedicado  Florianopolis         52860        812   \n",
       "1        F2 2024-08-16  Dedicado  Florianopolis         52920        868   \n",
       "2        F3 2024-11-10  Dedicado  Florianopolis         56280        864   \n",
       "3        F4 2022-08-07  Dedicado  Florianopolis         58200        828   \n",
       "4        F5 2020-09-14  Dedicado  Florianopolis         51180        797   \n",
       "\n",
       "   Peso_Kg  Preco_custo  Custo_Frete  \n",
       "0      881        22025         5000  \n",
       "1      882        22050         5000  \n",
       "2      938        23450         5000  \n",
       "3      970        24250         5000  \n",
       "4      853        21325         5000  "
      ]
     },
     "execution_count": 16,
     "metadata": {},
     "output_type": "execute_result"
    }
   ],
   "source": [
    "df.head()"
   ]
  },
  {
   "cell_type": "markdown",
   "id": "c5150e8c",
   "metadata": {},
   "source": [
    "Agora que temos uma base única, solida e com os dados validados, podemos dar continuidade e iniciar a analise exploratória."
   ]
  },
  {
   "cell_type": "markdown",
   "id": "3f0e22f7",
   "metadata": {},
   "source": [
    "## 2: Definição de Métricas e Análise Exploratória"
   ]
  },
  {
   "cell_type": "markdown",
   "id": "111d3c74",
   "metadata": {},
   "source": [
    "Para podermos avaliar se os fretes são ineficientes ou nao, precisamos criar alguns métricas que possam quantificar o quanto um frente é eficiente.\n",
    "\n",
    "1. Indicadores de custo e margem: Esses ajudam a entender se o frete está caro ou barato e se está impactando na margem do pedido.\n",
    "\n",
    "- **Margem bruta:**\n",
    "$$\\text{Margem bruta(\\%)} = \\frac{\\text{Valor-Pedido}-\\text{Preco-custo}-\\text{Custo-frete}}{\\text{Valor-Pedido}} \\times 100$$\n",
    "\n",
    "- **Custo de frete por pedido:**\n",
    "\n",
    "$$\\text{Custo-frete-por-pedido} = \\frac{\\text{Custo-frete}}{\\text{Valor-pedido}}$$\n",
    "\n",
    "- **Custo de frete por peso:**\n",
    "\n",
    "$$\\text{Custo-frete-por-Kg} = \\frac{\\text{Custo-frete}}{\\text{Peso-KG}}$$\n",
    "\n",
    "- **Custo de frete por distância:** \n",
    "\n",
    "$$\\text{Custo-frete-por-km} = \\frac{{\\text{Custo-frete}}}{\\text{Preco-custo}}$$\n",
    "\n",
    "- **Markup do pedido:**\n",
    "\n",
    "$$\\text{Markup} = \\frac{\\text{Valor-pedido}}{\\text{Preco-custo}}$$\n",
    "\n",
    "\n",
    "2. Indicadores de produtividade e eficiência: Esses mostram se o transporte está sendo eficiente, principalmente para comparar dedicado vs fracionado.\n",
    "\n",
    "- **Peso transportado por Km:**\n",
    "\n",
    "$$ \\text{Kg-por-Km} = \\frac{\\text{Peso-Kg}}{\\text{Distancia}}$$\n",
    "\n",
    "- **Valor transportado por Km:**\n",
    "\n",
    "$$ \\text{Valor-por-Km} = \\frac{\\text{Valor-pedido}}{\\text{Distancia}}$$\n",
    "\n",
    "- **Frete relativo ao peso e distância:**\n",
    "\n",
    "$$\\text{Custo-frete-por-KgKm} = \\frac{\\text{Custo-frete}}{\\text{Peso-Kg}\\times\\text{Distancia}}$$\n",
    "\n",
    "3. Indicadores comparativos e estratégicos: Esses servem para tomada de decisão sobre rotas, preços e tipos de frete.\n",
    "\n",
    "- **Comparativo de custo entre modais:** Média do custo por km e por kg para dedicado vs fracionado.\n",
    "- **Ranking de cidades:** Custo médio de entrega por cidade.\n",
    "- **Índice de frete sobre preço de custo:**\n",
    "$$ \\text{Custo-frete-sobre-preco-custo} = \\frac{\\text{Custo-frete}}{\\text{Preco-custo}}$$\n",
    "\n",
    "\n",
    "Vamos calcular essas métricas agora."
   ]
  },
  {
   "cell_type": "code",
   "execution_count": 26,
   "id": "3c8a0d31",
   "metadata": {},
   "outputs": [],
   "source": [
    "# Margem bruta por pedido\n",
    "df['Margem_bruta'] = (df['Valor_pedido'] - df['Custo_Frete'] - df['Preco_custo'])/df['Valor_pedido']\n",
    "\n",
    "# Custo do frete por pedido \n",
    "df['custo_frete_por_pedido'] = df['Custo_Frete']/df['Valor_pedido']\n",
    "\n",
    "# Custo do frete por Kg\n",
    "df['custo_frete_por_kg'] = df['Custo_Frete']/df['Peso_Kg']\n",
    "\n",
    "# Custo de frete por distância\n",
    "df['custo_frete_por_km'] = df['Custo_Frete']/df['Distancia']\n",
    "\n",
    "# Markup \n",
    "df['Markup'] = df['Valor_pedido'] / df['Preco_custo']\n",
    "\n",
    "# Peso transportado por km\n",
    "df['kg_por_km'] = df['Peso_Kg'] / df['Distancia']\n",
    "\n",
    "# Valor transportado por km\n",
    "df['Valor_por_km'] = df['Valor_pedido'] / df['Distancia']\n",
    "\n",
    "# Frete relativo ao peso e distância\n",
    "df['Custo_frete_por_KgKm'] = df['Custo_Frete'] / (df['Peso_Kg'] * df['Distancia'])\n",
    "\n",
    "# Índice de frete sobre preço de custo\n",
    "\n",
    "df['Custo_frete_sobre_preco_custo'] = df['Custo_Frete']/df['Preco_custo']"
   ]
  },
  {
   "cell_type": "markdown",
   "id": "0ddabc2f",
   "metadata": {},
   "source": [
    "### 2.1: Indicadores de custo e margem\n",
    "\n",
    "Agora que temos algumas métricas, vamos analisar o seus comportamentos.\n",
    "\n",
    "Vamos iniciar pela **Margem bruta por pedido** com o objetivo de identificar quais pedidos podem ser mais ou menos lucrativos."
   ]
  },
  {
   "cell_type": "code",
   "execution_count": 42,
   "id": "c993c10a",
   "metadata": {},
   "outputs": [
    {
     "data": {
      "text/plain": [
       "min      -82.750000\n",
       "max        0.570833\n",
       "mean       0.502486\n",
       "median     0.543124\n",
       "Name: Margem_bruta, dtype: float64"
      ]
     },
     "execution_count": 42,
     "metadata": {},
     "output_type": "execute_result"
    }
   ],
   "source": [
    "df['Margem_bruta'].agg(['min', 'max', 'mean', 'median'])"
   ]
  },
  {
   "cell_type": "markdown",
   "id": "de7d8214",
   "metadata": {},
   "source": [
    "Podemos notar que:\n",
    "- O pedido mais lucrativo tem uma margem bruta de 0.57%.\n",
    "- O pedido menos lucrativo tem uma margem bruta de -82.75%.\n",
    "- A media das margens brutas dos pedidos e de 0.50%.\n",
    "\n",
    "Como temos pedidos com margem negativas, já temos uma indicação de pedidos ineficientes. Vamos inicialmente visualizar por meio histograma para verificar a distribuição da Margem bruta dos pedidos."
   ]
  },
  {
   "cell_type": "code",
   "execution_count": 66,
   "id": "b151102f",
   "metadata": {},
   "outputs": [
    {
     "data": {
      "image/png": "[encoded data removed]",
      "text/plain": [
       "<Figure size 800x500 with 1 Axes>"
      ]
     },
     "metadata": {},
     "output_type": "display_data"
    }
   ],
   "source": [
    "# Histograma\n",
    "plt.figure(figsize=(8, 5))\n",
    "sns.histplot(df['Margem_bruta'], bins=10, kde=True, color='royalblue')\n",
    "sns.kdeplot(df['Margem_bruta'], color='darkred', linewidth=3)\n",
    "# Personalização\n",
    "plt.title('Distribuição da Margem Bruta por Pedido', fontsize=14)\n",
    "plt.xlabel('Margem Bruta (R$)')\n",
    "plt.ylabel('Frequência')\n",
    "plt.grid(axis='y', linestyle='--', alpha=0.7)\n",
    "\n",
    "plt.show()"
   ]
  },
  {
   "cell_type": "markdown",
   "id": "d437773e",
   "metadata": {},
   "source": [
    "Podemos notar que temos um pico acima do zero, contudo temos indicativo margem de lucro negativa, o que nos indica que o valor recebido pelo pedido **não cobre** o custo de aquisição do produto/produção e **nem o frete**.\n",
    "\n",
    "Vamos criar duas categorias para facilitar a comparação. Neste caso, teremos dois grupos iniciais:\n",
    "- **Grupo 1:** Pedidos lucrativos (Margem_bruta >= 0)\n",
    "- **Grupo 2:** Pedidos com prejuízo (Margem_bruta < 0)"
   ]
  },
  {
   "cell_type": "code",
   "execution_count": null,
   "id": "35eb61ba",
   "metadata": {},
   "outputs": [],
   "source": [
    "# Criar coluna de categoria\n",
    "df['Status_Margem'] = df['Margem_bruta'].apply(lambda x: 'Lucro' if x >= 0 else 'Prejuízo')"
   ]
  },
  {
   "cell_type": "code",
   "execution_count": 102,
   "id": "5dc1fde6",
   "metadata": {},
   "outputs": [
    {
     "name": "stdout",
     "output_type": "stream",
     "text": [
      "Status_Margem\n",
      "Lucro       99.246597\n",
      "Prejuízo     0.753403\n",
      "Name: proportion, dtype: float64\n"
     ]
    }
   ],
   "source": [
    "print(df['Status_Margem'].value_counts(normalize=True)*100)"
   ]
  },
  {
   "cell_type": "markdown",
   "id": "aa3f02cc",
   "metadata": {},
   "source": [
    "Temos que 99% dos pedidos geram lucros e apenas 0.75%, menos de 1% gera prejuízo."
   ]
  },
  {
   "cell_type": "code",
   "execution_count": 84,
   "id": "359d1a5d",
   "metadata": {},
   "outputs": [
    {
     "data": {
      "image/png": "[encoded data removed]",
      "text/plain": [
       "<Figure size 800x500 with 1 Axes>"
      ]
     },
     "metadata": {},
     "output_type": "display_data"
    }
   ],
   "source": [
    "plt.figure(figsize=(8, 5))\n",
    "sns.histplot(df[df['Status_Margem'] == 'Lucro']['Margem_bruta'], bins=30, color='green')\n",
    "plt.title('Distribuição da Margem Bruta - Lucro', fontsize=14)\n",
    "plt.xlabel('Margem Bruta (R$)')\n",
    "plt.ylabel('Frequência')\n",
    "plt.grid(axis='y', linestyle='--', alpha=0.6)\n",
    "plt.show()"
   ]
  },
  {
   "cell_type": "markdown",
   "id": "5720cda5",
   "metadata": {},
   "source": [
    "Nossa margem lucra possuí uma cauda muito longa na esquerda, indo em direção ao zero. Contudo, temos pedidos que gerem Margem Bruta a acima de 40% e abaixo de 60%."
   ]
  },
  {
   "cell_type": "code",
   "execution_count": 83,
   "id": "34443454",
   "metadata": {},
   "outputs": [
    {
     "data": {
      "image/png": "[encoded data removed]",
      "text/plain": [
       "<Figure size 800x500 with 1 Axes>"
      ]
     },
     "metadata": {},
     "output_type": "display_data"
    }
   ],
   "source": [
    "plt.figure(figsize=(8, 5))\n",
    "sns.histplot(df[df['Status_Margem'] == 'Prejuízo']['Margem_bruta'], kde=True,bins=30, color='green')\n",
    "plt.title('Distribuição da Margem Bruta - Prejuízo', fontsize=14)\n",
    "plt.xlabel('Margem Bruta (R$)')\n",
    "plt.ylabel('Frequência')\n",
    "plt.grid(axis='y', linestyle='--', alpha=0.6)\n",
    "plt.show()"
   ]
  },
  {
   "cell_type": "markdown",
   "id": "78fa26b6",
   "metadata": {},
   "source": [
    "Quando olhamos para os pedidos que indicam prejuízo, temos uma pico bastante alto com prejuízo abaixo de zero e uma calda muito longa na esquerda. \n",
    "\n",
    "Podemos calcular o total de prejuízo "
   ]
  },
  {
   "cell_type": "code",
   "execution_count": 104,
   "id": "d99642c2",
   "metadata": {},
   "outputs": [
    {
     "data": {
      "text/plain": [
       "-14389870.0"
      ]
     },
     "execution_count": 104,
     "metadata": {},
     "output_type": "execute_result"
    }
   ],
   "source": [
    "Valor_do_prejuízo = float((df[df['Status_Margem'] == 'Prejuízo']['Margem_bruta'] * df['Valor_pedido']).sum())\n",
    "Valor_do_prejuízo"
   ]
  },
  {
   "cell_type": "markdown",
   "id": "4b81dd9e",
   "metadata": {},
   "source": [
    "Vimos que os pedidos que geram prejuízo representam menos de 1% dos pedidos. Contudo, este valor representa um total de R$ 14,389,870.0. O que nos levar a perguntar por que estes pedidos possuem uma margem bruta negativa. "
   ]
  },
  {
   "cell_type": "code",
   "execution_count": null,
   "id": "d96c9241",
   "metadata": {},
   "outputs": [],
   "source": []
  },
  {
   "cell_type": "markdown",
   "id": "2b1f7cc5",
   "metadata": {},
   "source": []
  },
  {
   "cell_type": "code",
   "execution_count": null,
   "id": "ef02f90e",
   "metadata": {},
   "outputs": [],
   "source": []
  }
 ],
 "metadata": {
  "kernelspec": {
   "display_name": "base",
   "language": "python",
   "name": "python3"
  },
  "language_info": {
   "codemirror_mode": {
    "name": "ipython",
    "version": 3
   },
   "file_extension": ".py",
   "mimetype": "text/x-python",
   "name": "python",
   "nbconvert_exporter": "python",
   "pygments_lexer": "ipython3",
   "version": "3.12.2"
  }
 },
 "nbformat": 4,
 "nbformat_minor": 5
}
