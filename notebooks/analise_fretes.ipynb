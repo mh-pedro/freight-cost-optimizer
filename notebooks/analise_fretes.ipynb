{
 "cells": [
  {
   "cell_type": "markdown",
   "id": "5bc0000a",
   "metadata": {},
   "source": [
    "# Análise de Eficiência de Fretes\n",
    "Este projeto tem como objetivo analisar dados de distribuição de livros didáticos a partir do **Centro de Distribuição (CD)**, identificando **fretes ineficientes** e propondo **recomendações para otimizar**.\n",
    "\n",
    "Iremos dividir este projeto em três partes:\n",
    "\n",
    "- 1. Entendimento e Preparação dos Dados\n",
    "- 2. Definição de Métricas e Análise Exploratória\n",
    "- 3. Modelagem e Recomendações"
   ]
  },
  {
   "cell_type": "markdown",
   "id": "39d14bd2",
   "metadata": {},
   "source": [
    "## Entendimento e Preparação dos Dados\n",
    "\n",
    "Vamos inciar com a inspeção dos dados com objetivo de identificar os formatos, datas, valores nulos, duplicidades e outras inconsistências.\n",
    "\n",
    "Temos duas bases de dados, são elas:\n",
    "\n",
    "- `base_informações.csv` que contem as seguintes colunas:\n",
    "\n",
    "    - **ID_Pedido:** Código único de identificação do pedido;\n",
    "    - **Data:** Data do pedido;\n",
    "    - **Modal:** Modal usado para o transporte;\n",
    "    - **Cidade:** Cidade de destino da entrega;\n",
    "    - **Valor_pedido:** Valor do pedido.\n",
    "\n",
    "- `base_pedidos.csv` que contem as seguintes colunas:\n",
    "    - **ID_Pedido:** Código único de identificação do pedido;\n",
    "    - **Distância:** Distância entre o CD (Centro de Distribuição) e o cliente (Vamos assumir que a distância está em Km);\n",
    "    - **Peso_Kg:** Peso em Kilograma do pedido;\n",
    "    - **Preco_custo:** Preço de custo do pedido, no caso do material dos livros;\n",
    "    - **Custo_Frete:** Custo do frete.\n",
    "\n",
    "    Outras informações são: \n",
    "\n",
    "    - **Modal de Transporte Dedicado:** consiste na contratação de um veículo exclusivo pelo Centro\n",
    "    de Distribuição (CD), diretamente com a transportadora, para o transporte de uma carga\n",
    "    fechada. Esse modal possui uma capacidade máxima de 1.500 kg.\n",
    "    - **Modal de Transporte Fracionado:** ocorre quando o Centro de Distribuição (CD) encaminha o\n",
    "    pedido do cliente por meio de uma transportadora. A transportadora realiza a coleta da\n",
    "    mercadoria e a entrega ao cliente utilizando sua logística já estruturada, consolidando a\n",
    "    carga com os pedidos de outros clientes atendidos pela transportadora.\n",
    "    - Por padrão, todos os pedidos têm origem com o modal de entrega Fracionado. \n",
    "    O representante comercial da Somos Educação pode realizar uma solicitação ao CD para\n",
    "    transformar o modal em Dedicado.\n",
    "    - Toda alteração de modal Fracionado para Dedicado deve ser aprovado pelo time competente no CD."
   ]
  },
  {
   "cell_type": "code",
   "execution_count": null,
   "id": "f5d8e1d0",
   "metadata": {},
   "outputs": [],
   "source": [
    "import pandas as pd"
   ]
  },
  {
   "cell_type": "code",
   "execution_count": null,
   "id": "a90c4c50",
   "metadata": {},
   "outputs": [],
   "source": [
    "df_info = pd.read_csv('./data/Base_informações.csv', sep=',')\n",
    "\n",
    "df_pedidos = pd.read_csv('./data/Base_Pedidos.csv', sep=';')"
   ]
  },
  {
   "cell_type": "code",
   "execution_count": 27,
   "id": "38d5e5a6",
   "metadata": {},
   "outputs": [],
   "source": [
    "df_pedidos.to_csv('./data/Base_informações.csv',sep=';', index=False, encoding=\"utf-8\")"
   ]
  },
  {
   "cell_type": "code",
   "execution_count": 24,
   "id": "192c0431",
   "metadata": {},
   "outputs": [
    {
     "data": {
      "text/html": [
       "<div>\n",
       "<style scoped>\n",
       "    .dataframe tbody tr th:only-of-type {\n",
       "        vertical-align: middle;\n",
       "    }\n",
       "\n",
       "    .dataframe tbody tr th {\n",
       "        vertical-align: top;\n",
       "    }\n",
       "\n",
       "    .dataframe thead th {\n",
       "        text-align: right;\n",
       "    }\n",
       "</style>\n",
       "<table border=\"1\" class=\"dataframe\">\n",
       "  <thead>\n",
       "    <tr style=\"text-align: right;\">\n",
       "      <th></th>\n",
       "      <th>ID_Pedido</th>\n",
       "      <th>Data</th>\n",
       "      <th>Modal</th>\n",
       "      <th>Cidade</th>\n",
       "      <th>Valor_pedido</th>\n",
       "    </tr>\n",
       "  </thead>\n",
       "  <tbody>\n",
       "    <tr>\n",
       "      <th>0</th>\n",
       "      <td>F1</td>\n",
       "      <td>19APR2020</td>\n",
       "      <td>Dedicado</td>\n",
       "      <td>Florianopolis</td>\n",
       "      <td>52860</td>\n",
       "    </tr>\n",
       "    <tr>\n",
       "      <th>1</th>\n",
       "      <td>F2</td>\n",
       "      <td>16AUG2024</td>\n",
       "      <td>Dedicado</td>\n",
       "      <td>Florianopolis</td>\n",
       "      <td>52920</td>\n",
       "    </tr>\n",
       "    <tr>\n",
       "      <th>2</th>\n",
       "      <td>F3</td>\n",
       "      <td>10/nov/24</td>\n",
       "      <td>Dedicado</td>\n",
       "      <td>Florianopolis</td>\n",
       "      <td>56280</td>\n",
       "    </tr>\n",
       "    <tr>\n",
       "      <th>3</th>\n",
       "      <td>F4</td>\n",
       "      <td>07AUG2022</td>\n",
       "      <td>Dedicado</td>\n",
       "      <td>Florianopolis</td>\n",
       "      <td>58200</td>\n",
       "    </tr>\n",
       "    <tr>\n",
       "      <th>4</th>\n",
       "      <td>F5</td>\n",
       "      <td>14SEP2020</td>\n",
       "      <td>Dedicado</td>\n",
       "      <td>Florianopolis</td>\n",
       "      <td>51180</td>\n",
       "    </tr>\n",
       "  </tbody>\n",
       "</table>\n",
       "</div>"
      ],
      "text/plain": [
       "  ID_Pedido       Data     Modal         Cidade  Valor_pedido\n",
       "0        F1  19APR2020  Dedicado  Florianopolis         52860\n",
       "1        F2  16AUG2024  Dedicado  Florianopolis         52920\n",
       "2        F3  10/nov/24  Dedicado  Florianopolis         56280\n",
       "3        F4  07AUG2022  Dedicado  Florianopolis         58200\n",
       "4        F5  14SEP2020  Dedicado  Florianopolis         51180"
      ]
     },
     "execution_count": 24,
     "metadata": {},
     "output_type": "execute_result"
    }
   ],
   "source": [
    "df_pedidos.head()"
   ]
  },
  {
   "cell_type": "code",
   "execution_count": 25,
   "id": "db9d9cff",
   "metadata": {},
   "outputs": [
    {
     "data": {
      "text/html": [
       "<div>\n",
       "<style scoped>\n",
       "    .dataframe tbody tr th:only-of-type {\n",
       "        vertical-align: middle;\n",
       "    }\n",
       "\n",
       "    .dataframe tbody tr th {\n",
       "        vertical-align: top;\n",
       "    }\n",
       "\n",
       "    .dataframe thead th {\n",
       "        text-align: right;\n",
       "    }\n",
       "</style>\n",
       "<table border=\"1\" class=\"dataframe\">\n",
       "  <thead>\n",
       "    <tr style=\"text-align: right;\">\n",
       "      <th></th>\n",
       "      <th>ID_Pedido</th>\n",
       "      <th>Distancia</th>\n",
       "      <th>Peso_Kg</th>\n",
       "      <th>Preco_custo</th>\n",
       "      <th>Custo_Frete</th>\n",
       "    </tr>\n",
       "  </thead>\n",
       "  <tbody>\n",
       "    <tr>\n",
       "      <th>0</th>\n",
       "      <td>F1</td>\n",
       "      <td>812</td>\n",
       "      <td>881</td>\n",
       "      <td>22025</td>\n",
       "      <td>5000</td>\n",
       "    </tr>\n",
       "    <tr>\n",
       "      <th>1</th>\n",
       "      <td>F2</td>\n",
       "      <td>868</td>\n",
       "      <td>882</td>\n",
       "      <td>22050</td>\n",
       "      <td>5000</td>\n",
       "    </tr>\n",
       "    <tr>\n",
       "      <th>2</th>\n",
       "      <td>F3</td>\n",
       "      <td>864</td>\n",
       "      <td>938</td>\n",
       "      <td>23450</td>\n",
       "      <td>5000</td>\n",
       "    </tr>\n",
       "    <tr>\n",
       "      <th>3</th>\n",
       "      <td>F4</td>\n",
       "      <td>828</td>\n",
       "      <td>970</td>\n",
       "      <td>24250</td>\n",
       "      <td>5000</td>\n",
       "    </tr>\n",
       "    <tr>\n",
       "      <th>4</th>\n",
       "      <td>F5</td>\n",
       "      <td>797</td>\n",
       "      <td>853</td>\n",
       "      <td>21325</td>\n",
       "      <td>5000</td>\n",
       "    </tr>\n",
       "  </tbody>\n",
       "</table>\n",
       "</div>"
      ],
      "text/plain": [
       "  ID_Pedido  Distancia  Peso_Kg  Preco_custo  Custo_Frete\n",
       "0        F1        812      881        22025         5000\n",
       "1        F2        868      882        22050         5000\n",
       "2        F3        864      938        23450         5000\n",
       "3        F4        828      970        24250         5000\n",
       "4        F5        797      853        21325         5000"
      ]
     },
     "execution_count": 25,
     "metadata": {},
     "output_type": "execute_result"
    }
   ],
   "source": [
    "df_info.head()"
   ]
  },
  {
   "cell_type": "code",
   "execution_count": null,
   "id": "ea819640",
   "metadata": {},
   "outputs": [],
   "source": []
  }
 ],
 "metadata": {
  "kernelspec": {
   "display_name": "base",
   "language": "python",
   "name": "python3"
  },
  "language_info": {
   "codemirror_mode": {
    "name": "ipython",
    "version": 3
   },
   "file_extension": ".py",
   "mimetype": "text/x-python",
   "name": "python",
   "nbconvert_exporter": "python",
   "pygments_lexer": "ipython3",
   "version": "3.12.2"
  }
 },
 "nbformat": 4,
 "nbformat_minor": 5
}
